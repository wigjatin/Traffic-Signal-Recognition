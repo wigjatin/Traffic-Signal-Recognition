{
 "cells": [
  {
   "cell_type": "code",
   "execution_count": 2,
   "id": "d61a0eb9",
   "metadata": {},
   "outputs": [
    {
     "name": "stdout",
     "output_type": "stream",
     "text": [
      "WARNING:tensorflow:From C:\\Users\\acer\\AppData\\Roaming\\Python\\Python310\\site-packages\\tensorflow\\python\\ops\\distributions\\distribution.py:259: ReparameterizationType.__init__ (from tensorflow.python.ops.distributions.distribution) is deprecated and will be removed after 2019-01-01.\n",
      "Instructions for updating:\n",
      "The TensorFlow Distributions library has moved to TensorFlow Probability (https://github.com/tensorflow/probability). You should update all references to use `tfp.distributions` instead of `tf.distributions`.\n",
      "WARNING:tensorflow:From C:\\Users\\acer\\AppData\\Roaming\\Python\\Python310\\site-packages\\tensorflow\\python\\ops\\distributions\\bernoulli.py:165: RegisterKL.__init__ (from tensorflow.python.ops.distributions.kullback_leibler) is deprecated and will be removed after 2019-01-01.\n",
      "Instructions for updating:\n",
      "The TensorFlow Distributions library has moved to TensorFlow Probability (https://github.com/tensorflow/probability). You should update all references to use `tfp.distributions` instead of `tf.distributions`.\n"
     ]
    }
   ],
   "source": [
    "import numpy as np\n",
    "import matplotlib.pyplot as plt\n",
    "import cv2\n",
    "import os\n",
    "import pandas as pd\n",
    "import pickle\n",
    "from sklearn.model_selection import train_test_split\n",
    "import tensorflow as tf\n",
    "from tensorflow.keras.models import Sequential\n",
    "from tensorflow.keras.layers import Dense, Dropout, Flatten, Conv2D, MaxPooling2D\n",
    "from tensorflow.keras.utils import to_categorical\n",
    "from tensorflow.keras.optimizers import Adam\n",
    "from tensorflow.keras.preprocessing.image import ImageDataGenerator"
   ]
  },
  {
   "cell_type": "code",
   "execution_count": 3,
   "id": "83003e61",
   "metadata": {},
   "outputs": [],
   "source": [
    "df = \"D:\\Traffic Signal Recognition\\Dataset\" \n",
    "ldf = 'D:\\Traffic Signal Recognition\\labels.csv' \n",
    "batch_size_val=32 \n",
    "epochs_val=10\n",
    "imageDimesions = (32,32,3)\n",
    "testRatio = 0.2    \n",
    "validationRatio = 0.2 "
   ]
  },
  {
   "cell_type": "code",
   "execution_count": 4,
   "id": "4a6477ed",
   "metadata": {},
   "outputs": [
    {
     "name": "stdout",
     "output_type": "stream",
     "text": [
      "Total Classes Detected: 43\n"
     ]
    }
   ],
   "source": [
    "count = 0\n",
    "images = []\n",
    "classNo = []\n",
    "myList = os.listdir(df)\n",
    "print(\"Total Classes Detected:\",len(myList))\n",
    "noOfClasses=len(myList)"
   ]
  },
  {
   "cell_type": "code",
   "execution_count": 5,
   "id": "c0dcae17",
   "metadata": {},
   "outputs": [
    {
     "name": "stdout",
     "output_type": "stream",
     "text": [
      "0 1 2 3 4 5 6 7 8 9 10 11 12 13 14 15 16 17 18 19 20 21 22 23 24 25 26 27 28 29 30 31 32 33 34 35 36 37 38 39 40 41 42  \n"
     ]
    }
   ],
   "source": [
    "for x in range (0,len(myList)):\n",
    "    myPicList = os.listdir(df+\"/\"+str(count))\n",
    "    for y in myPicList:\n",
    "        curImg = cv2.imread(df+\"/\"+str(count)+\"/\"+y)\n",
    "        images.append(curImg)\n",
    "        classNo.append(count)\n",
    "    print(count, end =\" \")\n",
    "    count +=1\n",
    "print(\" \")\n",
    "images = np.array(images)\n",
    "classNo = np.array(classNo)"
   ]
  },
  {
   "cell_type": "code",
   "execution_count": 7,
   "id": "2f50621c",
   "metadata": {},
   "outputs": [],
   "source": [
    "X_train, X_test, y_train, y_test = train_test_split(images, classNo, test_size=testRatio)\n",
    "X_train, X_validation, y_train, y_validation = train_test_split(X_train, y_train, test_size=validationRatio)"
   ]
  },
  {
   "cell_type": "code",
   "execution_count": 8,
   "id": "2f236d3c",
   "metadata": {},
   "outputs": [],
   "source": [
    "labels = pd.read_csv(\"D:\\Traffic Signal Recognition\\labels.csv\")"
   ]
  },
  {
   "cell_type": "code",
   "execution_count": 9,
   "id": "ecd94ccc",
   "metadata": {},
   "outputs": [],
   "source": [
    "def grayscale(img):\n",
    "    img = cv2.cvtColor(img,cv2.COLOR_BGR2GRAY)\n",
    "    return img"
   ]
  },
  {
   "cell_type": "code",
   "execution_count": 10,
   "id": "b2bb783d",
   "metadata": {},
   "outputs": [],
   "source": [
    "def equalize(img):\n",
    "    img =cv2.equalizeHist(img)\n",
    "    return img"
   ]
  },
  {
   "cell_type": "code",
   "execution_count": 11,
   "id": "6dd66a86",
   "metadata": {},
   "outputs": [],
   "source": [
    "def preprocessing(img):\n",
    "    img = grayscale(img)     \n",
    "    img = equalize(img)      \n",
    "    img = img/255            \n",
    "    return img"
   ]
  },
  {
   "cell_type": "code",
   "execution_count": 12,
   "id": "98c0882c",
   "metadata": {},
   "outputs": [],
   "source": [
    "X_train=np.array(list(map(preprocessing,X_train)))  \n",
    "X_validation=np.array(list(map(preprocessing,X_validation)))\n",
    "X_test=np.array(list(map(preprocessing,X_test)))"
   ]
  },
  {
   "cell_type": "code",
   "execution_count": 13,
   "id": "b06d0193",
   "metadata": {},
   "outputs": [],
   "source": [
    "X_train=X_train.reshape(X_train.shape[0],X_train.shape[1],X_train.shape[2],1)\n",
    "X_validation=X_validation.reshape(X_validation.shape[0],X_validation.shape[1],X_validation.shape[2],1)\n",
    "X_test=X_test.reshape(X_test.shape[0],X_test.shape[1],X_test.shape[2],1)"
   ]
  },
  {
   "cell_type": "code",
   "execution_count": 14,
   "id": "48a8401f",
   "metadata": {},
   "outputs": [],
   "source": [
    "dataGen= ImageDataGenerator(width_shift_range=0.1,   \n",
    "                            height_shift_range=0.1,\n",
    "                            zoom_range=0.2,  \n",
    "                            shear_range=0.1,  \n",
    "                            rotation_range=10)  "
   ]
  },
  {
   "cell_type": "code",
   "execution_count": 15,
   "id": "7281f3d1",
   "metadata": {},
   "outputs": [],
   "source": [
    "dataGen.fit(X_train)\n",
    "batches= dataGen.flow(X_train,y_train,batch_size=20)\n",
    "X_batch,y_batch = next(batches)"
   ]
  },
  {
   "cell_type": "code",
   "execution_count": 16,
   "id": "a02731d2",
   "metadata": {},
   "outputs": [],
   "source": [
    "y_train = to_categorical(y_train,noOfClasses)\n",
    "y_validation = to_categorical(y_validation,noOfClasses)\n",
    "y_test = to_categorical(y_test,noOfClasses)"
   ]
  },
  {
   "cell_type": "code",
   "execution_count": 17,
   "id": "c2f68847",
   "metadata": {},
   "outputs": [
    {
     "name": "stderr",
     "output_type": "stream",
     "text": [
      "C:\\Users\\acer\\AppData\\Roaming\\Python\\Python310\\site-packages\\keras\\optimizers\\optimizer_v2\\adam.py:114: UserWarning: The `lr` argument is deprecated, use `learning_rate` instead.\n",
      "  super().__init__(name, **kwargs)\n"
     ]
    }
   ],
   "source": [
    "def myModel():\n",
    "    model= Sequential()\n",
    "    model.add((Conv2D(60,(5,5),input_shape=(imageDimesions[0],imageDimesions[1],1),activation='relu')))  # ADDING MORE CONVOLUTION LAYERS = LESS FEATURES BUT CAN CAUSE ACCURACY TO INCREASE\n",
    "    model.add((Conv2D(60, (5,5), activation='relu')))\n",
    "    model.add(MaxPooling2D(pool_size=(2,2)))\n",
    " \n",
    "    model.add((Conv2D(30, (3,3),activation='relu')))\n",
    "    model.add((Conv2D(30, (3,3), activation='relu')))\n",
    "    model.add(MaxPooling2D(pool_size=(2,2)))\n",
    "    model.add(Dropout(0.5))\n",
    " \n",
    "    model.add(Flatten())\n",
    "    model.add(Dense(500,activation='relu'))\n",
    "    model.add(Dropout(0.5))\n",
    "    model.add(Dense(noOfClasses,activation='softmax')) \n",
    "    model.compile(Adam(lr=0.001),loss='categorical_crossentropy',metrics=['accuracy'])\n",
    "    return model\n",
    " \n",
    "model = myModel()"
   ]
  },
  {
   "cell_type": "code",
   "execution_count": 18,
   "id": "7d046dff",
   "metadata": {},
   "outputs": [
    {
     "name": "stderr",
     "output_type": "stream",
     "text": [
      "C:\\Users\\acer\\AppData\\Local\\Temp\\ipykernel_23080\\676064730.py:1: UserWarning: `Model.fit_generator` is deprecated and will be removed in a future version. Please use `Model.fit`, which supports generators.\n",
      "  history=model.fit_generator(dataGen.flow(X_train,y_train,batch_size=32),steps_per_epoch=len(X_train)//32,epochs=epochs_val,validation_data=(X_validation,y_validation),shuffle=1)\n"
     ]
    },
    {
     "name": "stdout",
     "output_type": "stream",
     "text": [
      "Epoch 1/10\n",
      "695/695 [==============================] - 102s 146ms/step - loss: 2.5104 - accuracy: 0.3029 - val_loss: 0.7685 - val_accuracy: 0.7660\n",
      "Epoch 2/10\n",
      "695/695 [==============================] - 121s 174ms/step - loss: 1.2025 - accuracy: 0.6350 - val_loss: 0.3203 - val_accuracy: 0.9170\n",
      "Epoch 3/10\n",
      "695/695 [==============================] - 114s 165ms/step - loss: 0.8447 - accuracy: 0.7427 - val_loss: 0.1808 - val_accuracy: 0.9497\n",
      "Epoch 4/10\n",
      "695/695 [==============================] - 96s 138ms/step - loss: 0.6530 - accuracy: 0.7956 - val_loss: 0.1233 - val_accuracy: 0.9673\n",
      "Epoch 5/10\n",
      "695/695 [==============================] - 96s 138ms/step - loss: 0.5461 - accuracy: 0.8284 - val_loss: 0.0885 - val_accuracy: 0.9736\n",
      "Epoch 6/10\n",
      "695/695 [==============================] - 105s 151ms/step - loss: 0.4779 - accuracy: 0.8536 - val_loss: 0.0818 - val_accuracy: 0.9779\n",
      "Epoch 7/10\n",
      "695/695 [==============================] - 96s 138ms/step - loss: 0.4136 - accuracy: 0.8692 - val_loss: 0.0703 - val_accuracy: 0.9767\n",
      "Epoch 8/10\n",
      "695/695 [==============================] - 103s 148ms/step - loss: 0.3870 - accuracy: 0.8783 - val_loss: 0.0487 - val_accuracy: 0.9876\n",
      "Epoch 9/10\n",
      "695/695 [==============================] - 92s 133ms/step - loss: 0.3573 - accuracy: 0.8876 - val_loss: 0.0649 - val_accuracy: 0.9806\n",
      "Epoch 10/10\n",
      "695/695 [==============================] - 102s 147ms/step - loss: 0.3409 - accuracy: 0.8948 - val_loss: 0.0451 - val_accuracy: 0.9890\n"
     ]
    }
   ],
   "source": [
    "history=model.fit_generator(dataGen.flow(X_train,y_train,batch_size=32),steps_per_epoch=len(X_train)//32,epochs=epochs_val,validation_data=(X_validation,y_validation),shuffle=1)\n"
   ]
  },
  {
   "cell_type": "code",
   "execution_count": 19,
   "id": "3f3676d0",
   "metadata": {},
   "outputs": [
    {
     "name": "stdout",
     "output_type": "stream",
     "text": [
      "Test Score: 0.04838519170880318\n",
      "Test Accuracy: 0.9863505959510803\n"
     ]
    }
   ],
   "source": [
    "score =model.evaluate(X_test,y_test,verbose=0)\n",
    "print('Test Score:',score[0])\n",
    "print('Test Accuracy:',score[1])\n",
    " \n",
    "model.save(\"model.h5\")"
   ]
  },
  {
   "cell_type": "code",
   "execution_count": null,
   "id": "b296ce81",
   "metadata": {},
   "outputs": [],
   "source": []
  }
 ],
 "metadata": {
  "kernelspec": {
   "display_name": "Python 3",
   "language": "python",
   "name": "python3"
  },
  "language_info": {
   "codemirror_mode": {
    "name": "ipython",
    "version": 3
   },
   "file_extension": ".py",
   "mimetype": "text/x-python",
   "name": "python",
   "nbconvert_exporter": "python",
   "pygments_lexer": "ipython3",
   "version": "3.10.11"
  }
 },
 "nbformat": 4,
 "nbformat_minor": 5
}
